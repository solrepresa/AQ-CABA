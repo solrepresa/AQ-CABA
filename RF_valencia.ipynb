{
  "nbformat": 4,
  "nbformat_minor": 0,
  "metadata": {
    "colab": {
      "name": "RF_valencia.ipynb",
      "provenance": [],
      "toc_visible": true,
      "include_colab_link": true
    },
    "kernelspec": {
      "name": "python3",
      "display_name": "Python 3"
    }
  },
  "cells": [
    {
      "cell_type": "markdown",
      "metadata": {
        "id": "view-in-github",
        "colab_type": "text"
      },
      "source": [
        "<a href=\"https://colab.research.google.com/github/solrepresa/AQ-CABA/blob/master/RF_valencia.ipynb\" target=\"_parent\"><img src=\"https://colab.research.google.com/assets/colab-badge.svg\" alt=\"Open In Colab\"/></a>"
      ]
    },
    {
      "cell_type": "markdown",
      "metadata": {
        "id": "PRK7DhkxQw1H",
        "colab_type": "text"
      },
      "source": [
        "\n",
        "Apache Spark y Random Forest en Python."
      ]
    },
    {
      "cell_type": "markdown",
      "metadata": {
        "id": "1S40_DJrRO0f",
        "colab_type": "text"
      },
      "source": [
        "Importar librerías que vamos a usar.\n",
        "La mayoría son pyspark."
      ]
    },
    {
      "cell_type": "code",
      "metadata": {
        "id": "azLRejEFQqD_",
        "colab_type": "code",
        "outputId": "82a1b188-ad61-43ea-c9df-84013660262a",
        "colab": {
          "base_uri": "https://localhost:8080/",
          "height": 72
        }
      },
      "source": [
        "!pip install --upgrade pyspark\n",
        "\n",
        "from pyspark.ml import Pipeline\n",
        "from pyspark.ml.regression import RandomForestRegressor\n",
        "from pyspark.ml.tuning import ParamGridBuilder\n",
        "from pyspark.ml.tuning import CrossValidator\n",
        "from pyspark.ml.feature import VectorIndexer\n",
        "from pyspark.ml.feature import VectorAssembler\n",
        "from pyspark.ml.evaluation import RegressionEvaluator\n",
        "from pyspark.context import SparkContext\n",
        "from pyspark.sql.functions import col\n",
        "from pyspark.sql.session import SparkSession\n",
        "\n",
        "\n",
        "import pandas as pd\n",
        "import numpy as np"
      ],
      "execution_count": 8,
      "outputs": [
        {
          "output_type": "stream",
          "text": [
            "Requirement already up-to-date: pyspark in /usr/local/lib/python3.6/dist-packages (2.4.5)\n",
            "Requirement already satisfied, skipping upgrade: py4j==0.10.7 in /usr/local/lib/python3.6/dist-packages (from pyspark) (0.10.7)\n"
          ],
          "name": "stdout"
        }
      ]
    },
    {
      "cell_type": "markdown",
      "metadata": {
        "id": "ol9KImLYefn4",
        "colab_type": "text"
      },
      "source": [
        "Creamos un contexto y sesión para Spark. Luego lo vamos a cerrar al final del código."
      ]
    },
    {
      "cell_type": "code",
      "metadata": {
        "id": "5QYxlgeId4CJ",
        "colab_type": "code",
        "colab": {}
      },
      "source": [
        "sc = SparkContext('local')\n",
        "spark = SparkSession(sc)"
      ],
      "execution_count": 0,
      "outputs": []
    },
    {
      "cell_type": "markdown",
      "metadata": {
        "id": "HBhUHN1sRXOi",
        "colab_type": "text"
      },
      "source": [
        "Abrimos los datos. Es un 10% de mi set de datos. Está almacenado en github. Abrimos con pandas y convertimos al formato de Spark.\n"
      ]
    },
    {
      "cell_type": "code",
      "metadata": {
        "id": "Kcu_MJqW7CH3",
        "colab_type": "code",
        "colab": {}
      },
      "source": [
        "# URL datos\n",
        "url = \"https://raw.githubusercontent.com/solrepresa/RF-Valencia/master/prueba_datos.csv\"\n",
        "df1 = pd.read_csv(url)"
      ],
      "execution_count": 0,
      "outputs": []
    },
    {
      "cell_type": "code",
      "metadata": {
        "id": "YPg42VPH8djl",
        "colab_type": "code",
        "colab": {}
      },
      "source": [
        "type(df1)\n",
        "data = spark.createDataFrame(df1)"
      ],
      "execution_count": 0,
      "outputs": []
    },
    {
      "cell_type": "code",
      "metadata": {
        "id": "hyH1CKZh77Yk",
        "colab_type": "code",
        "colab": {
          "base_uri": "https://localhost:8080/",
          "height": 35
        },
        "outputId": "238e390e-c61b-4152-9533-db5d0b972b24"
      },
      "source": [
        "type(data)\n"
      ],
      "execution_count": 16,
      "outputs": [
        {
          "output_type": "execute_result",
          "data": {
            "text/plain": [
              "pyspark.sql.dataframe.DataFrame"
            ]
          },
          "metadata": {
            "tags": []
          },
          "execution_count": 16
        }
      ]
    },
    {
      "cell_type": "code",
      "metadata": {
        "id": "GfkSx-PARkCY",
        "colab_type": "code",
        "colab": {}
      },
      "source": [
        "#data = spark.read.format(\"csv\").option(\"header\", True).load(\"/variables_estacion_aod_IDW_modelo_paper.csv\")"
      ],
      "execution_count": 0,
      "outputs": []
    },
    {
      "cell_type": "markdown",
      "metadata": {
        "id": "wE2j4PXlPnWs",
        "colab_type": "text"
      },
      "source": [
        "Verificamos que la tabla se encuentre cargada correctamente."
      ]
    },
    {
      "cell_type": "code",
      "metadata": {
        "id": "cMr9q_5peG4_",
        "colab_type": "code",
        "outputId": "9936e7ec-c4db-4cb2-a34a-b657657ed5e2",
        "colab": {
          "base_uri": "https://localhost:8080/",
          "height": 399
        }
      },
      "source": [
        "#display(data)\n",
        "#data.show()\n",
        "#data.describe().show()\n",
        "\n",
        "data.printSchema() #aparecen las variables como string\n"
      ],
      "execution_count": 100,
      "outputs": [
        {
          "output_type": "stream",
          "text": [
            "root\n",
            " |-- PM25: string (nullable = true)\n",
            " |-- DEM: string (nullable = true)\n",
            " |-- CLC_1: string (nullable = true)\n",
            " |-- PS: string (nullable = true)\n",
            " |-- RH: string (nullable = true)\n",
            " |-- T: string (nullable = true)\n",
            " |-- U: string (nullable = true)\n",
            " |-- V: string (nullable = true)\n",
            " |-- DUSMASS: string (nullable = true)\n",
            " |-- OCSMASS: string (nullable = true)\n",
            " |-- SO2SMASS: string (nullable = true)\n",
            " |-- SO4SMASS: string (nullable = true)\n",
            " |-- SSSMASS: string (nullable = true)\n",
            " |-- PBLH: string (nullable = true)\n",
            " |-- PRECTOT: string (nullable = true)\n",
            " |-- SPEED: string (nullable = true)\n",
            " |-- CLDHGH: string (nullable = true)\n",
            " |-- CLDLOW: string (nullable = true)\n",
            " |-- H1000: string (nullable = true)\n",
            " |-- AOD: string (nullable = true)\n",
            "\n"
          ],
          "name": "stdout"
        }
      ]
    },
    {
      "cell_type": "markdown",
      "metadata": {
        "id": "VUQoMsbIencw",
        "colab_type": "text"
      },
      "source": [
        "Cambiamos el formato de string a float"
      ]
    },
    {
      "cell_type": "code",
      "metadata": {
        "id": "BX1MVl1Reknr",
        "colab_type": "code",
        "colab": {}
      },
      "source": [
        "data = data.select(*(col(c).cast(\"float\").alias(c) for c in data.columns))"
      ],
      "execution_count": 0,
      "outputs": []
    },
    {
      "cell_type": "markdown",
      "metadata": {
        "id": "YIzG_WpOe1Hg",
        "colab_type": "text"
      },
      "source": [
        "Corroboramos:"
      ]
    },
    {
      "cell_type": "code",
      "metadata": {
        "id": "P2El4b9ves9_",
        "colab_type": "code",
        "outputId": "0ccd7f25-34ca-43ca-f017-79ab575ede82",
        "colab": {
          "base_uri": "https://localhost:8080/",
          "height": 869
        }
      },
      "source": [
        "data.printSchema()\n",
        "data.show()"
      ],
      "execution_count": 102,
      "outputs": [
        {
          "output_type": "stream",
          "text": [
            "root\n",
            " |-- PM25: float (nullable = true)\n",
            " |-- DEM: float (nullable = true)\n",
            " |-- CLC_1: float (nullable = true)\n",
            " |-- PS: float (nullable = true)\n",
            " |-- RH: float (nullable = true)\n",
            " |-- T: float (nullable = true)\n",
            " |-- U: float (nullable = true)\n",
            " |-- V: float (nullable = true)\n",
            " |-- DUSMASS: float (nullable = true)\n",
            " |-- OCSMASS: float (nullable = true)\n",
            " |-- SO2SMASS: float (nullable = true)\n",
            " |-- SO4SMASS: float (nullable = true)\n",
            " |-- SSSMASS: float (nullable = true)\n",
            " |-- PBLH: float (nullable = true)\n",
            " |-- PRECTOT: float (nullable = true)\n",
            " |-- SPEED: float (nullable = true)\n",
            " |-- CLDHGH: float (nullable = true)\n",
            " |-- CLDLOW: float (nullable = true)\n",
            " |-- H1000: float (nullable = true)\n",
            " |-- AOD: float (nullable = true)\n",
            "\n",
            "+-----+---------+-----+---------+------------+---------+---------+---------+-------------+-------------+-------------+-------------+------------+---------+-------------+---------+------------+------------+----------+-----------+\n",
            "| PM25|      DEM|CLC_1|       PS|          RH|        T|        U|        V|      DUSMASS|      OCSMASS|     SO2SMASS|     SO4SMASS|     SSSMASS|     PBLH|      PRECTOT|    SPEED|      CLDHGH|      CLDLOW|     H1000|        AOD|\n",
            "+-----+---------+-----+---------+------------+---------+---------+---------+-------------+-------------+-------------+-------------+------------+---------+-------------+---------+------------+------------+----------+-----------+\n",
            "| 9.75|53.224415|88.89| 92464.25|7.5658963E-6|205.85196| 33.79814| 49.39369| 2.3951334E-9|3.0983574E-10| 2.8935954E-9| 9.461106E-10| 3.689532E-9|488.61777| 4.340437E-13|4.5561557|  0.70601267| 5.193252E-6| 140.78761| 0.09185217|\n",
            "| 9.75|53.224415|88.89| 95590.87|7.5658963E-6|205.85196| 33.79814| 49.39369| 2.3951334E-9|3.0983574E-10| 2.8935954E-9| 9.461106E-10| 3.689532E-9|488.61777| 4.340437E-13|4.5561557|  0.70601267| 5.193252E-6| 140.78761| 0.09185217|\n",
            "| 10.0|53.224415|88.89|95150.414|2.0689242E-5|198.49751|44.375584|31.805464| 1.1894784E-9|2.5960614E-10| 1.0496785E-9| 9.876762E-10|1.8583532E-9|1099.7428| 1.5411356E-7|3.7944877|         0.0|   0.0338569| 101.97528|0.077627845|\n",
            "| 10.0|53.224415|88.89| 91915.63|2.0689242E-5|198.49751|44.375584|31.805464| 1.1894784E-9|2.5960614E-10| 1.0496785E-9| 9.876762E-10|1.8583532E-9|1099.7428| 1.5411356E-7|3.7944877|         0.0|   0.0338569| 101.97528|0.077627845|\n",
            "| 12.5|53.224415|88.89| 92035.47| 7.977595E-6|204.63554|54.266724|34.666862| 8.609935E-10|2.9232872E-10| 1.1124484E-9| 9.936231E-10|1.1019963E-9|1207.8529|  8.348068E-9| 8.453269|         0.0|0.0011896868|117.236115| 0.08933823|\n",
            "| 12.5|53.224415|88.89| 95381.35| 7.977595E-6|204.63554|54.266724|34.666862| 8.609935E-10|2.9232872E-10| 1.1124484E-9| 9.936231E-10|1.1019963E-9|1207.8529|  8.348068E-9| 8.453269|         0.0|0.0011896868|117.236115| 0.08933823|\n",
            "|13.75|53.224415|88.89| 93488.09| 1.649848E-6|214.26723| 34.13508|-8.053818| 1.8393963E-9|2.6884922E-10| 2.2929947E-9|  9.84038E-10|1.4314684E-9|845.35266|1.3001618E-12|2.0809631|         0.0| 4.987668E-5| 230.06311| 0.09506422|\n",
            "|13.75|53.224415|88.89| 96653.17| 1.649848E-6|214.26723| 34.13508|-8.053818| 1.8393963E-9|2.6884922E-10| 2.2929947E-9|  9.84038E-10|1.4314684E-9|845.35266|1.3001618E-12|2.0809631|         0.0| 4.987668E-5| 230.06311| 0.09506422|\n",
            "|10.25|53.224415|88.89|92709.836|1.4272174E-6|216.81152|31.233677|16.560278|3.1498468E-10|1.7108881E-10|6.8992956E-10|5.2125027E-10|3.6910544E-9| 614.8538|  9.009174E-8| 8.877104|0.0065259254| 0.008853613| 158.88893|0.096644506|\n",
            "|10.25|53.224415|88.89|95909.945|1.4272174E-6|216.81152|31.233677|16.560278|3.1498468E-10|1.7108881E-10|6.8992956E-10|5.2125027E-10|3.6910544E-9| 614.8538|  9.009174E-8| 8.877104|0.0065259254| 0.008853613| 158.88893|0.096644506|\n",
            "|18.75|53.224415|88.89|93178.836|1.2310628E-6|216.17207|32.246487|19.588427|5.5591465E-10|4.4727294E-10| 3.9313868E-9| 1.6719893E-9|2.9429281E-9| 772.1549|  1.555065E-8|2.7553308| 2.010236E-5|  0.01832787| 189.77892| 0.11699753|\n",
            "|18.75|53.224415|88.89| 96342.65|1.2310628E-6|216.17207|32.246487|19.588427|5.5591465E-10|4.4727294E-10| 3.9313868E-9| 1.6719893E-9|2.9429281E-9| 772.1549|  1.555065E-8|2.7553308| 2.010236E-5|  0.01832787| 189.77892| 0.11699753|\n",
            "| 12.0|53.224415|88.89| 92892.99|1.4071019E-6|216.62779|32.293076|14.981136| 7.2031234E-9|3.1284966E-10|  3.014168E-9|8.8138996E-10|3.0476877E-9| 132.1553| 8.814652E-15| 8.093436|  0.69794077|0.0035749972| 159.84378| 0.07734031|\n",
            "| 12.0|53.224415|88.89|95946.875|1.4071019E-6|216.62779|32.293076|14.981136| 7.2031234E-9|3.1284966E-10|  3.014168E-9|8.8138996E-10|3.0476877E-9| 132.1553| 8.814652E-15| 8.093436|  0.69794077|0.0035749972| 159.84378| 0.07734031|\n",
            "|15.25|53.224415|88.89|91116.516|2.0293287E-6|209.56377|17.009798|6.0017695|8.2007967E-10|1.6898603E-10| 1.4515886E-9| 7.973507E-10|7.3511024E-9|1134.5146| 4.8013862E-6| 8.135953|         0.0|  0.10231033| 25.677832|0.051600248|\n",
            "|15.25|53.224415|88.89|  94256.5|2.0293287E-6|209.56377|17.009798|6.0017695|8.2007967E-10|1.6898603E-10| 1.4515886E-9| 7.973507E-10|7.3511024E-9|1134.5146| 4.8013862E-6| 8.135953|         0.0|  0.10231033| 25.677832|0.051600248|\n",
            "|12.75|53.224415|88.89| 92162.99|1.4028936E-6| 212.1542|1.5142944|30.294914|7.5970613E-10|1.3642681E-10| 7.756674E-10| 3.783643E-10|3.3007868E-9|1126.0978| 5.4216613E-8|10.795798|         0.0|  0.03408565|113.900856|0.060513042|\n",
            "|12.75|53.224415|88.89| 95417.66|1.4028936E-6| 212.1542|1.5142944|30.294914|7.5970613E-10|1.3642681E-10| 7.756674E-10| 3.783643E-10|3.3007868E-9|1126.0978| 5.4216613E-8|10.795798|         0.0|  0.03408565|113.900856|0.060513042|\n",
            "|21.25|53.224415|88.89|  92318.3|1.6449596E-5|198.82817|-14.32192|-9.529853| 4.9662523E-9|2.6354524E-10| 1.4203136E-9| 9.707086E-10|1.8247918E-9|1079.8605|  3.024338E-9|4.7079396|   0.8748193| 5.819268E-5| 112.98545| 0.09144742|\n",
            "|21.25|53.224415|88.89| 95222.91|1.6449596E-5|198.82817|-14.32192|-9.529853| 4.9662523E-9|2.6354524E-10| 1.4203136E-9| 9.707086E-10|1.8247918E-9|1079.8605|  3.024338E-9|4.7079396|   0.8748193| 5.819268E-5| 112.98545| 0.09144742|\n",
            "+-----+---------+-----+---------+------------+---------+---------+---------+-------------+-------------+-------------+-------------+------------+---------+-------------+---------+------------+------------+----------+-----------+\n",
            "only showing top 20 rows\n",
            "\n"
          ],
          "name": "stdout"
        }
      ]
    },
    {
      "cell_type": "markdown",
      "metadata": {
        "id": "O8uxgOUNPvOk",
        "colab_type": "text"
      },
      "source": [
        "Creamos la lista de variables q ingresan al modelo"
      ]
    },
    {
      "cell_type": "code",
      "metadata": {
        "id": "UzDBXlabRRok",
        "colab_type": "code",
        "colab": {}
      },
      "source": [
        "feature_list = []\n",
        "for col in data.columns:\n",
        "    if col == 'label':\n",
        "        continue\n",
        "    else:\n",
        "        feature_list.append(col)"
      ],
      "execution_count": 0,
      "outputs": []
    },
    {
      "cell_type": "code",
      "metadata": {
        "id": "f2MS6aY9V_1B",
        "colab_type": "code",
        "outputId": "9d7cc9c9-de3c-4a7b-b5a1-1804a1408c67",
        "colab": {
          "base_uri": "https://localhost:8080/",
          "height": 364
        }
      },
      "source": [
        "feature_list #es una lista"
      ],
      "execution_count": 104,
      "outputs": [
        {
          "output_type": "execute_result",
          "data": {
            "text/plain": [
              "['PM25',\n",
              " 'DEM',\n",
              " 'CLC_1',\n",
              " 'PS',\n",
              " 'RH',\n",
              " 'T',\n",
              " 'U',\n",
              " 'V',\n",
              " 'DUSMASS',\n",
              " 'OCSMASS',\n",
              " 'SO2SMASS',\n",
              " 'SO4SMASS',\n",
              " 'SSSMASS',\n",
              " 'PBLH',\n",
              " 'PRECTOT',\n",
              " 'SPEED',\n",
              " 'CLDHGH',\n",
              " 'CLDLOW',\n",
              " 'H1000',\n",
              " 'AOD']"
            ]
          },
          "metadata": {
            "tags": []
          },
          "execution_count": 104
        }
      ]
    },
    {
      "cell_type": "markdown",
      "metadata": {
        "id": "kdwyFWGNRY3q",
        "colab_type": "text"
      },
      "source": [
        "Combinamos todos nuestros datos en una sola columna:"
      ]
    },
    {
      "cell_type": "code",
      "metadata": {
        "id": "NhqDWsdXRl_N",
        "colab_type": "code",
        "colab": {}
      },
      "source": [
        "assembler = VectorAssembler(inputCols=feature_list, outputCol=\"features\")"
      ],
      "execution_count": 0,
      "outputs": []
    },
    {
      "cell_type": "markdown",
      "metadata": {
        "id": "Bg_jjaQPYGv6",
        "colab_type": "text"
      },
      "source": [
        "Definimos el modelo:"
      ]
    },
    {
      "cell_type": "code",
      "metadata": {
        "id": "_y3muOlmSPc3",
        "colab_type": "code",
        "colab": {}
      },
      "source": [
        "rf = RandomForestRegressor(labelCol=\"PM25\", featuresCol=\"features\", numTrees=100)"
      ],
      "execution_count": 0,
      "outputs": []
    },
    {
      "cell_type": "markdown",
      "metadata": {
        "id": "OvdnbWFIZY0I",
        "colab_type": "text"
      },
      "source": [
        "Creamos el Pipeline:"
      ]
    },
    {
      "cell_type": "code",
      "metadata": {
        "id": "Gd-3N92zUt4z",
        "colab_type": "code",
        "colab": {}
      },
      "source": [
        "pipeline = Pipeline(stages=[assembler, rf])"
      ],
      "execution_count": 0,
      "outputs": []
    },
    {
      "cell_type": "markdown",
      "metadata": {
        "id": "8iJxLXH4Zfei",
        "colab_type": "text"
      },
      "source": [
        "Creamos la grilla para calcular el error:"
      ]
    },
    {
      "cell_type": "code",
      "metadata": {
        "id": "Pc9rE14mVapG",
        "colab_type": "code",
        "colab": {}
      },
      "source": [
        "paramGrid = ParamGridBuilder() \\\n",
        "    .addGrid(rf.numTrees, [int(x) for x in np.linspace(start = 10, stop = 50, num = 10)]) \\\n",
        "    .addGrid(rf.maxDepth, [int(x) for x in np.linspace(start = 5, stop = 25, num = 10)]) \\\n",
        "    .build()"
      ],
      "execution_count": 0,
      "outputs": []
    },
    {
      "cell_type": "markdown",
      "metadata": {
        "id": "cLY1WkgIZmVg",
        "colab_type": "text"
      },
      "source": [
        "Armamos el Cross Validation:"
      ]
    },
    {
      "cell_type": "code",
      "metadata": {
        "id": "No95jQ8YQE1n",
        "colab_type": "code",
        "colab": {}
      },
      "source": [
        "crossval = CrossValidator(estimator=pipeline,\n",
        "                          estimatorParamMaps=paramGrid,\n",
        "                          evaluator=RegressionEvaluator(),\n",
        "                          numFolds=10)"
      ],
      "execution_count": 0,
      "outputs": []
    },
    {
      "cell_type": "markdown",
      "metadata": {
        "id": "eh5mE6psv9vF",
        "colab_type": "text"
      },
      "source": [
        "Transformamos los datos"
      ]
    },
    {
      "cell_type": "code",
      "metadata": {
        "id": "qCWcU7hpvIGk",
        "colab_type": "code",
        "colab": {}
      },
      "source": [
        "from pyspark.mllib.linalg import Vectors\n",
        "from pyspark.mllib.regression import LabeledPoint\n",
        "\n",
        "transformed_df = data.rdd.map(lambda row: LabeledPoint(row[-1], Vectors.dense(row[0:-1])))\n"
      ],
      "execution_count": 0,
      "outputs": []
    },
    {
      "cell_type": "markdown",
      "metadata": {
        "id": "lef1jsXJaDaj",
        "colab_type": "text"
      },
      "source": [
        "Definimos el set de entrenamiento y el de prueba (30% de los datos):"
      ]
    },
    {
      "cell_type": "code",
      "metadata": {
        "id": "WOccokdCbnPX",
        "colab_type": "code",
        "colab": {}
      },
      "source": [
        "(trainingData, testData) = transformed_df.randomSplit([0.7, 0.3])"
      ],
      "execution_count": 0,
      "outputs": []
    },
    {
      "cell_type": "code",
      "metadata": {
        "id": "5ceymBilt7Qc",
        "colab_type": "code",
        "outputId": "66683e64-0359-4827-ba0f-2c4f7145f9ad",
        "colab": {
          "base_uri": "https://localhost:8080/",
          "height": 166
        }
      },
      "source": [
        ""
      ],
      "execution_count": 0,
      "outputs": [
        {
          "output_type": "error",
          "ename": "TypeError",
          "evalue": "ignored",
          "traceback": [
            "\u001b[0;31m---------------------------------------------------------------------------\u001b[0m",
            "\u001b[0;31mTypeError\u001b[0m                                 Traceback (most recent call last)",
            "\u001b[0;32m<ipython-input-88-cecb11b266e4>\u001b[0m in \u001b[0;36m<module>\u001b[0;34m()\u001b[0m\n\u001b[0;32m----> 1\u001b[0;31m \u001b[0mtransformed_df\u001b[0m\u001b[0;34m.\u001b[0m\u001b[0mlookup\u001b[0m\u001b[0;34m(\u001b[0m\u001b[0;34m)\u001b[0m\u001b[0;34m\u001b[0m\u001b[0;34m\u001b[0m\u001b[0m\n\u001b[0m",
            "\u001b[0;31mTypeError\u001b[0m: lookup() missing 1 required positional argument: 'key'"
          ]
        }
      ]
    },
    {
      "cell_type": "markdown",
      "metadata": {
        "id": "LbQdFaNTaLXp",
        "colab_type": "text"
      },
      "source": [
        "Por fin, corremos el modelo con el set de entrenamiento:"
      ]
    },
    {
      "cell_type": "code",
      "metadata": {
        "id": "3tqgu4pkebZM",
        "colab_type": "code",
        "outputId": "3faaa6d3-1697-43a2-8fa4-5fb02c17ec9c",
        "colab": {
          "base_uri": "https://localhost:8080/",
          "height": 311
        }
      },
      "source": [
        "cvModel = crossval.fit(trainingData)"
      ],
      "execution_count": 0,
      "outputs": [
        {
          "output_type": "error",
          "ename": "AttributeError",
          "evalue": "ignored",
          "traceback": [
            "\u001b[0;31m---------------------------------------------------------------------------\u001b[0m",
            "\u001b[0;31mAttributeError\u001b[0m                            Traceback (most recent call last)",
            "\u001b[0;32m<ipython-input-89-2c190e63e55e>\u001b[0m in \u001b[0;36m<module>\u001b[0;34m()\u001b[0m\n\u001b[0;32m----> 1\u001b[0;31m \u001b[0mcvModel\u001b[0m \u001b[0;34m=\u001b[0m \u001b[0mcrossval\u001b[0m\u001b[0;34m.\u001b[0m\u001b[0mfit\u001b[0m\u001b[0;34m(\u001b[0m\u001b[0mtrainingData\u001b[0m\u001b[0;34m)\u001b[0m\u001b[0;34m\u001b[0m\u001b[0;34m\u001b[0m\u001b[0m\n\u001b[0m",
            "\u001b[0;32m/usr/local/lib/python3.6/dist-packages/pyspark/ml/base.py\u001b[0m in \u001b[0;36mfit\u001b[0;34m(self, dataset, params)\u001b[0m\n\u001b[1;32m    130\u001b[0m                 \u001b[0;32mreturn\u001b[0m \u001b[0mself\u001b[0m\u001b[0;34m.\u001b[0m\u001b[0mcopy\u001b[0m\u001b[0;34m(\u001b[0m\u001b[0mparams\u001b[0m\u001b[0;34m)\u001b[0m\u001b[0;34m.\u001b[0m\u001b[0m_fit\u001b[0m\u001b[0;34m(\u001b[0m\u001b[0mdataset\u001b[0m\u001b[0;34m)\u001b[0m\u001b[0;34m\u001b[0m\u001b[0;34m\u001b[0m\u001b[0m\n\u001b[1;32m    131\u001b[0m             \u001b[0;32melse\u001b[0m\u001b[0;34m:\u001b[0m\u001b[0;34m\u001b[0m\u001b[0;34m\u001b[0m\u001b[0m\n\u001b[0;32m--> 132\u001b[0;31m                 \u001b[0;32mreturn\u001b[0m \u001b[0mself\u001b[0m\u001b[0;34m.\u001b[0m\u001b[0m_fit\u001b[0m\u001b[0;34m(\u001b[0m\u001b[0mdataset\u001b[0m\u001b[0;34m)\u001b[0m\u001b[0;34m\u001b[0m\u001b[0;34m\u001b[0m\u001b[0m\n\u001b[0m\u001b[1;32m    133\u001b[0m         \u001b[0;32melse\u001b[0m\u001b[0;34m:\u001b[0m\u001b[0;34m\u001b[0m\u001b[0;34m\u001b[0m\u001b[0m\n\u001b[1;32m    134\u001b[0m             raise ValueError(\"Params must be either a param map or a list/tuple of param maps, \"\n",
            "\u001b[0;32m/usr/local/lib/python3.6/dist-packages/pyspark/ml/tuning.py\u001b[0m in \u001b[0;36m_fit\u001b[0;34m(self, dataset)\u001b[0m\n\u001b[1;32m    285\u001b[0m         \u001b[0mh\u001b[0m \u001b[0;34m=\u001b[0m \u001b[0;36m1.0\u001b[0m \u001b[0;34m/\u001b[0m \u001b[0mnFolds\u001b[0m\u001b[0;34m\u001b[0m\u001b[0;34m\u001b[0m\u001b[0m\n\u001b[1;32m    286\u001b[0m         \u001b[0mrandCol\u001b[0m \u001b[0;34m=\u001b[0m \u001b[0mself\u001b[0m\u001b[0;34m.\u001b[0m\u001b[0muid\u001b[0m \u001b[0;34m+\u001b[0m \u001b[0;34m\"_rand\"\u001b[0m\u001b[0;34m\u001b[0m\u001b[0;34m\u001b[0m\u001b[0m\n\u001b[0;32m--> 287\u001b[0;31m         \u001b[0mdf\u001b[0m \u001b[0;34m=\u001b[0m \u001b[0mdataset\u001b[0m\u001b[0;34m.\u001b[0m\u001b[0mselect\u001b[0m\u001b[0;34m(\u001b[0m\u001b[0;34m\"*\"\u001b[0m\u001b[0;34m,\u001b[0m \u001b[0mrand\u001b[0m\u001b[0;34m(\u001b[0m\u001b[0mseed\u001b[0m\u001b[0;34m)\u001b[0m\u001b[0;34m.\u001b[0m\u001b[0malias\u001b[0m\u001b[0;34m(\u001b[0m\u001b[0mrandCol\u001b[0m\u001b[0;34m)\u001b[0m\u001b[0;34m)\u001b[0m\u001b[0;34m\u001b[0m\u001b[0;34m\u001b[0m\u001b[0m\n\u001b[0m\u001b[1;32m    288\u001b[0m         \u001b[0mmetrics\u001b[0m \u001b[0;34m=\u001b[0m \u001b[0;34m[\u001b[0m\u001b[0;36m0.0\u001b[0m\u001b[0;34m]\u001b[0m \u001b[0;34m*\u001b[0m \u001b[0mnumModels\u001b[0m\u001b[0;34m\u001b[0m\u001b[0;34m\u001b[0m\u001b[0m\n\u001b[1;32m    289\u001b[0m \u001b[0;34m\u001b[0m\u001b[0m\n",
            "\u001b[0;31mAttributeError\u001b[0m: 'PipelinedRDD' object has no attribute 'select'"
          ]
        }
      ]
    },
    {
      "cell_type": "code",
      "metadata": {
        "id": "tr1Fu_uHVuIW",
        "colab_type": "code",
        "colab": {}
      },
      "source": [
        "predictions = cvModel.transform(testData)"
      ],
      "execution_count": 0,
      "outputs": []
    },
    {
      "cell_type": "markdown",
      "metadata": {
        "id": "Ny-5QiG61utq",
        "colab_type": "text"
      },
      "source": [
        "De aca para abajo es \"tomado\".. Muestra gráficas de resultados."
      ]
    },
    {
      "cell_type": "code",
      "metadata": {
        "id": "HV2lTrd-VwVu",
        "colab_type": "code",
        "colab": {}
      },
      "source": [
        "import matplotlib.pyplot as plt\n",
        "\n",
        "evaluator = RegressionEvaluator(labelCol=\"label\", predictionCol=\"prediction\", metricName=\"rmse\")\n",
        "\n",
        "rmse = evaluator.evaluate(predictions)\n",
        "\n",
        "rfPred = cvModel.transform(df)\n",
        "\n",
        "rfResult = rfPred.toPandas()\n",
        "\n",
        "plt.plot(rfResult.label, rfResult.prediction, 'bo')\n",
        "plt.xlabel('Price')\n",
        "plt.ylabel('Prediction')\n",
        "plt.suptitle(\"Model Performance RMSE: %f\" % rmse)\n",
        "plt.show()"
      ],
      "execution_count": 0,
      "outputs": []
    },
    {
      "cell_type": "code",
      "metadata": {
        "id": "IhhlYl3mV0cN",
        "colab_type": "code",
        "colab": {}
      },
      "source": [
        "\n",
        "bestPipeline = cvModel.bestModel\n",
        "bestModel = bestPipeline.stages[1]\n",
        "\n",
        "importances = bestModel.featureImportances\n",
        "\n",
        "x_values = list(range(len(importances)))\n",
        "\n",
        "plt.bar(x_values, importances, orientation = 'vertical')\n",
        "plt.xticks(x_values, feature_list, rotation=40)\n",
        "plt.ylabel('Importance')\n",
        "plt.xlabel('Feature')\n",
        "plt.title('Feature Importances')"
      ],
      "execution_count": 0,
      "outputs": []
    },
    {
      "cell_type": "code",
      "metadata": {
        "id": "xHlaV7nyeZH7",
        "colab_type": "code",
        "colab": {}
      },
      "source": [
        "sc.stop()"
      ],
      "execution_count": 0,
      "outputs": []
    }
  ]
}